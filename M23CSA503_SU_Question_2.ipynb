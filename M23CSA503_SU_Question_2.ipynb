{
  "nbformat": 4,
  "nbformat_minor": 0,
  "metadata": {
    "colab": {
      "provenance": [],
      "authorship_tag": "ABX9TyOBVCRV5s8HNVJZDbOXL0+D",
      "include_colab_link": true
    },
    "kernelspec": {
      "name": "python3",
      "display_name": "Python 3"
    },
    "language_info": {
      "name": "python"
    }
  },
  "cells": [
    {
      "cell_type": "markdown",
      "metadata": {
        "id": "view-in-github",
        "colab_type": "text"
      },
      "source": [
        "<a href=\"https://colab.research.google.com/github/akshziitj/CSL7770-Major/blob/main/M23CSA503_SU_Question_2.ipynb\" target=\"_parent\"><img src=\"https://colab.research.google.com/assets/colab-badge.svg\" alt=\"Open In Colab\"/></a>"
      ]
    },
    {
      "cell_type": "markdown",
      "source": [
        "# # Install required packages"
      ],
      "metadata": {
        "id": "iAC3UZ-yjUXR"
      }
    },
    {
      "cell_type": "code",
      "execution_count": null,
      "metadata": {
        "colab": {
          "base_uri": "https://localhost:8080/"
        },
        "collapsed": true,
        "id": "xvyi-7HdhTEX",
        "outputId": "fe8652d4-df24-4989-ec6e-8d43670ada74"
      },
      "outputs": [
        {
          "output_type": "stream",
          "name": "stdout",
          "text": [
            "Requirement already satisfied: torchaudio in /usr/local/lib/python3.11/dist-packages (2.6.0+cu124)\n",
            "Requirement already satisfied: transformers in /usr/local/lib/python3.11/dist-packages (4.51.1)\n",
            "Requirement already satisfied: pesq in /usr/local/lib/python3.11/dist-packages (0.0.4)\n",
            "Requirement already satisfied: jiwer in /usr/local/lib/python3.11/dist-packages (3.1.0)\n",
            "Requirement already satisfied: torch==2.6.0 in /usr/local/lib/python3.11/dist-packages (from torchaudio) (2.6.0+cu124)\n",
            "Requirement already satisfied: filelock in /usr/local/lib/python3.11/dist-packages (from torch==2.6.0->torchaudio) (3.18.0)\n",
            "Requirement already satisfied: typing-extensions>=4.10.0 in /usr/local/lib/python3.11/dist-packages (from torch==2.6.0->torchaudio) (4.13.1)\n",
            "Requirement already satisfied: networkx in /usr/local/lib/python3.11/dist-packages (from torch==2.6.0->torchaudio) (3.4.2)\n",
            "Requirement already satisfied: jinja2 in /usr/local/lib/python3.11/dist-packages (from torch==2.6.0->torchaudio) (3.1.6)\n",
            "Requirement already satisfied: fsspec in /usr/local/lib/python3.11/dist-packages (from torch==2.6.0->torchaudio) (2025.3.2)\n",
            "Requirement already satisfied: nvidia-cuda-nvrtc-cu12==12.4.127 in /usr/local/lib/python3.11/dist-packages (from torch==2.6.0->torchaudio) (12.4.127)\n",
            "Requirement already satisfied: nvidia-cuda-runtime-cu12==12.4.127 in /usr/local/lib/python3.11/dist-packages (from torch==2.6.0->torchaudio) (12.4.127)\n",
            "Requirement already satisfied: nvidia-cuda-cupti-cu12==12.4.127 in /usr/local/lib/python3.11/dist-packages (from torch==2.6.0->torchaudio) (12.4.127)\n",
            "Requirement already satisfied: nvidia-cudnn-cu12==9.1.0.70 in /usr/local/lib/python3.11/dist-packages (from torch==2.6.0->torchaudio) (9.1.0.70)\n",
            "Requirement already satisfied: nvidia-cublas-cu12==12.4.5.8 in /usr/local/lib/python3.11/dist-packages (from torch==2.6.0->torchaudio) (12.4.5.8)\n",
            "Requirement already satisfied: nvidia-cufft-cu12==11.2.1.3 in /usr/local/lib/python3.11/dist-packages (from torch==2.6.0->torchaudio) (11.2.1.3)\n",
            "Requirement already satisfied: nvidia-curand-cu12==10.3.5.147 in /usr/local/lib/python3.11/dist-packages (from torch==2.6.0->torchaudio) (10.3.5.147)\n",
            "Requirement already satisfied: nvidia-cusolver-cu12==11.6.1.9 in /usr/local/lib/python3.11/dist-packages (from torch==2.6.0->torchaudio) (11.6.1.9)\n",
            "Requirement already satisfied: nvidia-cusparse-cu12==12.3.1.170 in /usr/local/lib/python3.11/dist-packages (from torch==2.6.0->torchaudio) (12.3.1.170)\n",
            "Requirement already satisfied: nvidia-cusparselt-cu12==0.6.2 in /usr/local/lib/python3.11/dist-packages (from torch==2.6.0->torchaudio) (0.6.2)\n",
            "Requirement already satisfied: nvidia-nccl-cu12==2.21.5 in /usr/local/lib/python3.11/dist-packages (from torch==2.6.0->torchaudio) (2.21.5)\n",
            "Requirement already satisfied: nvidia-nvtx-cu12==12.4.127 in /usr/local/lib/python3.11/dist-packages (from torch==2.6.0->torchaudio) (12.4.127)\n",
            "Requirement already satisfied: nvidia-nvjitlink-cu12==12.4.127 in /usr/local/lib/python3.11/dist-packages (from torch==2.6.0->torchaudio) (12.4.127)\n",
            "Requirement already satisfied: triton==3.2.0 in /usr/local/lib/python3.11/dist-packages (from torch==2.6.0->torchaudio) (3.2.0)\n",
            "Requirement already satisfied: sympy==1.13.1 in /usr/local/lib/python3.11/dist-packages (from torch==2.6.0->torchaudio) (1.13.1)\n",
            "Requirement already satisfied: mpmath<1.4,>=1.1.0 in /usr/local/lib/python3.11/dist-packages (from sympy==1.13.1->torch==2.6.0->torchaudio) (1.3.0)\n",
            "Requirement already satisfied: huggingface-hub<1.0,>=0.30.0 in /usr/local/lib/python3.11/dist-packages (from transformers) (0.30.2)\n",
            "Requirement already satisfied: numpy>=1.17 in /usr/local/lib/python3.11/dist-packages (from transformers) (2.0.2)\n",
            "Requirement already satisfied: packaging>=20.0 in /usr/local/lib/python3.11/dist-packages (from transformers) (24.2)\n",
            "Requirement already satisfied: pyyaml>=5.1 in /usr/local/lib/python3.11/dist-packages (from transformers) (6.0.2)\n",
            "Requirement already satisfied: regex!=2019.12.17 in /usr/local/lib/python3.11/dist-packages (from transformers) (2024.11.6)\n",
            "Requirement already satisfied: requests in /usr/local/lib/python3.11/dist-packages (from transformers) (2.32.3)\n",
            "Requirement already satisfied: tokenizers<0.22,>=0.21 in /usr/local/lib/python3.11/dist-packages (from transformers) (0.21.1)\n",
            "Requirement already satisfied: safetensors>=0.4.3 in /usr/local/lib/python3.11/dist-packages (from transformers) (0.5.3)\n",
            "Requirement already satisfied: tqdm>=4.27 in /usr/local/lib/python3.11/dist-packages (from transformers) (4.67.1)\n",
            "Requirement already satisfied: click>=8.1.8 in /usr/local/lib/python3.11/dist-packages (from jiwer) (8.1.8)\n",
            "Requirement already satisfied: rapidfuzz>=3.9.7 in /usr/local/lib/python3.11/dist-packages (from jiwer) (3.13.0)\n",
            "Requirement already satisfied: charset-normalizer<4,>=2 in /usr/local/lib/python3.11/dist-packages (from requests->transformers) (3.4.1)\n",
            "Requirement already satisfied: idna<4,>=2.5 in /usr/local/lib/python3.11/dist-packages (from requests->transformers) (3.10)\n",
            "Requirement already satisfied: urllib3<3,>=1.21.1 in /usr/local/lib/python3.11/dist-packages (from requests->transformers) (2.3.0)\n",
            "Requirement already satisfied: certifi>=2017.4.17 in /usr/local/lib/python3.11/dist-packages (from requests->transformers) (2025.1.31)\n",
            "Requirement already satisfied: MarkupSafe>=2.0 in /usr/local/lib/python3.11/dist-packages (from jinja2->torch==2.6.0->torchaudio) (3.0.2)\n",
            "Reading package lists... Done\n",
            "Building dependency tree... Done\n",
            "Reading state information... Done\n",
            "ffmpeg is already the newest version (7:4.4.2-0ubuntu0.22.04.1).\n",
            "0 upgraded, 0 newly installed, 0 to remove and 34 not upgraded.\n",
            "Requirement already satisfied: numpy in /usr/local/lib/python3.11/dist-packages (2.0.2)\n",
            "Collecting numpy\n",
            "  Using cached numpy-2.2.4-cp311-cp311-manylinux_2_17_x86_64.manylinux2014_x86_64.whl.metadata (62 kB)\n",
            "Using cached numpy-2.2.4-cp311-cp311-manylinux_2_17_x86_64.manylinux2014_x86_64.whl (16.4 MB)\n",
            "Installing collected packages: numpy\n",
            "  Attempting uninstall: numpy\n",
            "    Found existing installation: numpy 2.0.2\n",
            "    Uninstalling numpy-2.0.2:\n",
            "      Successfully uninstalled numpy-2.0.2\n",
            "\u001b[31mERROR: pip's dependency resolver does not currently take into account all the packages that are installed. This behaviour is the source of the following dependency conflicts.\n",
            "tensorflow 2.18.0 requires numpy<2.1.0,>=1.26.0, but you have numpy 2.2.4 which is incompatible.\n",
            "numba 0.60.0 requires numpy<2.1,>=1.22, but you have numpy 2.2.4 which is incompatible.\u001b[0m\u001b[31m\n",
            "\u001b[0mSuccessfully installed numpy-2.2.4\n",
            "Collecting git+https://github.com/openai/whisper.git\n",
            "  Cloning https://github.com/openai/whisper.git to /tmp/pip-req-build-kmjnxmfk\n",
            "  Running command git clone --filter=blob:none --quiet https://github.com/openai/whisper.git /tmp/pip-req-build-kmjnxmfk\n",
            "  Resolved https://github.com/openai/whisper.git to commit 517a43ecd132a2089d85f4ebc044728a71d49f6e\n",
            "  Installing build dependencies ... \u001b[?25l\u001b[?25hdone\n",
            "  Getting requirements to build wheel ... \u001b[?25l\u001b[?25hdone\n",
            "  Preparing metadata (pyproject.toml) ... \u001b[?25l\u001b[?25hdone\n",
            "Requirement already satisfied: more-itertools in /usr/local/lib/python3.11/dist-packages (from openai-whisper==20240930) (10.6.0)\n",
            "Requirement already satisfied: numba in /usr/local/lib/python3.11/dist-packages (from openai-whisper==20240930) (0.60.0)\n",
            "Requirement already satisfied: numpy in /usr/local/lib/python3.11/dist-packages (from openai-whisper==20240930) (2.2.4)\n",
            "Requirement already satisfied: tiktoken in /usr/local/lib/python3.11/dist-packages (from openai-whisper==20240930) (0.9.0)\n",
            "Requirement already satisfied: torch in /usr/local/lib/python3.11/dist-packages (from openai-whisper==20240930) (2.6.0+cu124)\n",
            "Requirement already satisfied: tqdm in /usr/local/lib/python3.11/dist-packages (from openai-whisper==20240930) (4.67.1)\n",
            "Requirement already satisfied: triton>=2 in /usr/local/lib/python3.11/dist-packages (from openai-whisper==20240930) (3.2.0)\n",
            "Requirement already satisfied: llvmlite<0.44,>=0.43.0dev0 in /usr/local/lib/python3.11/dist-packages (from numba->openai-whisper==20240930) (0.43.0)\n",
            "Collecting numpy (from openai-whisper==20240930)\n",
            "  Using cached numpy-2.0.2-cp311-cp311-manylinux_2_17_x86_64.manylinux2014_x86_64.whl.metadata (60 kB)\n",
            "Requirement already satisfied: regex>=2022.1.18 in /usr/local/lib/python3.11/dist-packages (from tiktoken->openai-whisper==20240930) (2024.11.6)\n",
            "Requirement already satisfied: requests>=2.26.0 in /usr/local/lib/python3.11/dist-packages (from tiktoken->openai-whisper==20240930) (2.32.3)\n",
            "Requirement already satisfied: filelock in /usr/local/lib/python3.11/dist-packages (from torch->openai-whisper==20240930) (3.18.0)\n",
            "Requirement already satisfied: typing-extensions>=4.10.0 in /usr/local/lib/python3.11/dist-packages (from torch->openai-whisper==20240930) (4.13.1)\n",
            "Requirement already satisfied: networkx in /usr/local/lib/python3.11/dist-packages (from torch->openai-whisper==20240930) (3.4.2)\n",
            "Requirement already satisfied: jinja2 in /usr/local/lib/python3.11/dist-packages (from torch->openai-whisper==20240930) (3.1.6)\n",
            "Requirement already satisfied: fsspec in /usr/local/lib/python3.11/dist-packages (from torch->openai-whisper==20240930) (2025.3.2)\n",
            "Requirement already satisfied: nvidia-cuda-nvrtc-cu12==12.4.127 in /usr/local/lib/python3.11/dist-packages (from torch->openai-whisper==20240930) (12.4.127)\n",
            "Requirement already satisfied: nvidia-cuda-runtime-cu12==12.4.127 in /usr/local/lib/python3.11/dist-packages (from torch->openai-whisper==20240930) (12.4.127)\n",
            "Requirement already satisfied: nvidia-cuda-cupti-cu12==12.4.127 in /usr/local/lib/python3.11/dist-packages (from torch->openai-whisper==20240930) (12.4.127)\n",
            "Requirement already satisfied: nvidia-cudnn-cu12==9.1.0.70 in /usr/local/lib/python3.11/dist-packages (from torch->openai-whisper==20240930) (9.1.0.70)\n",
            "Requirement already satisfied: nvidia-cublas-cu12==12.4.5.8 in /usr/local/lib/python3.11/dist-packages (from torch->openai-whisper==20240930) (12.4.5.8)\n",
            "Requirement already satisfied: nvidia-cufft-cu12==11.2.1.3 in /usr/local/lib/python3.11/dist-packages (from torch->openai-whisper==20240930) (11.2.1.3)\n",
            "Requirement already satisfied: nvidia-curand-cu12==10.3.5.147 in /usr/local/lib/python3.11/dist-packages (from torch->openai-whisper==20240930) (10.3.5.147)\n",
            "Requirement already satisfied: nvidia-cusolver-cu12==11.6.1.9 in /usr/local/lib/python3.11/dist-packages (from torch->openai-whisper==20240930) (11.6.1.9)\n",
            "Requirement already satisfied: nvidia-cusparse-cu12==12.3.1.170 in /usr/local/lib/python3.11/dist-packages (from torch->openai-whisper==20240930) (12.3.1.170)\n",
            "Requirement already satisfied: nvidia-cusparselt-cu12==0.6.2 in /usr/local/lib/python3.11/dist-packages (from torch->openai-whisper==20240930) (0.6.2)\n",
            "Requirement already satisfied: nvidia-nccl-cu12==2.21.5 in /usr/local/lib/python3.11/dist-packages (from torch->openai-whisper==20240930) (2.21.5)\n",
            "Requirement already satisfied: nvidia-nvtx-cu12==12.4.127 in /usr/local/lib/python3.11/dist-packages (from torch->openai-whisper==20240930) (12.4.127)\n",
            "Requirement already satisfied: nvidia-nvjitlink-cu12==12.4.127 in /usr/local/lib/python3.11/dist-packages (from torch->openai-whisper==20240930) (12.4.127)\n",
            "Requirement already satisfied: sympy==1.13.1 in /usr/local/lib/python3.11/dist-packages (from torch->openai-whisper==20240930) (1.13.1)\n",
            "Requirement already satisfied: mpmath<1.4,>=1.1.0 in /usr/local/lib/python3.11/dist-packages (from sympy==1.13.1->torch->openai-whisper==20240930) (1.3.0)\n",
            "Requirement already satisfied: charset-normalizer<4,>=2 in /usr/local/lib/python3.11/dist-packages (from requests>=2.26.0->tiktoken->openai-whisper==20240930) (3.4.1)\n",
            "Requirement already satisfied: idna<4,>=2.5 in /usr/local/lib/python3.11/dist-packages (from requests>=2.26.0->tiktoken->openai-whisper==20240930) (3.10)\n",
            "Requirement already satisfied: urllib3<3,>=1.21.1 in /usr/local/lib/python3.11/dist-packages (from requests>=2.26.0->tiktoken->openai-whisper==20240930) (2.3.0)\n",
            "Requirement already satisfied: certifi>=2017.4.17 in /usr/local/lib/python3.11/dist-packages (from requests>=2.26.0->tiktoken->openai-whisper==20240930) (2025.1.31)\n",
            "Requirement already satisfied: MarkupSafe>=2.0 in /usr/local/lib/python3.11/dist-packages (from jinja2->torch->openai-whisper==20240930) (3.0.2)\n",
            "Using cached numpy-2.0.2-cp311-cp311-manylinux_2_17_x86_64.manylinux2014_x86_64.whl (19.5 MB)\n",
            "Installing collected packages: numpy\n",
            "  Attempting uninstall: numpy\n",
            "    Found existing installation: numpy 2.2.4\n",
            "    Uninstalling numpy-2.2.4:\n",
            "      Successfully uninstalled numpy-2.2.4\n",
            "Successfully installed numpy-2.0.2\n",
            "Requirement already satisfied: whisper in /usr/local/lib/python3.11/dist-packages (1.1.10)\n",
            "Requirement already satisfied: six in /usr/local/lib/python3.11/dist-packages (from whisper) (1.17.0)\n"
          ]
        }
      ],
      "source": [
        "!pip install torchaudio transformers pesq jiwer\n",
        "!sudo apt-get install ffmpeg\n",
        "!pip install -q demucs\n",
        "!pip install numpy --upgrade\n",
        "!pip install git+https://github.com/openai/whisper.git  # reinstall whisper just in case\n",
        "!pip install --upgrade whisper\n",
        "\n",
        "import torchaudio\n",
        "import torch\n",
        "import matplotlib.pyplot as plt\n",
        "import numpy as np\n",
        "import os\n",
        "import whisper\n",
        "from pesq import pesq\n",
        "from jiwer import wer\n",
        "from scipy.io import wavfile\n",
        "from scipy.signal import welch\n",
        "from demucs.pretrained import get_model\n",
        "from demucs.apply import apply_model\n",
        "from pathlib import Path"
      ]
    },
    {
      "cell_type": "markdown",
      "source": [
        "# Mount Google Drive and List Dataset Files"
      ],
      "metadata": {
        "id": "6-_n3YYii0AV"
      }
    },
    {
      "cell_type": "code",
      "source": [
        "from google.colab import drive\n",
        "drive.mount('/content/drive')\n",
        "\n",
        "# Updated paths to match new Google Drive structure\n",
        "set1_clean_path = \"/content/drive/MyDrive/AudioDenoising/set1/clean\"\n",
        "set1_noisy_path = \"/content/drive/MyDrive/AudioDenoising/set1/noisy\"\n",
        "set2_noisy_path = \"/content/drive/MyDrive/AudioDenoising/set2/noisy\"\n",
        "\n",
        "# File listings\n",
        "clean_files = sorted(os.listdir(set1_clean_path))\n",
        "noisy_files = sorted(os.listdir(set1_noisy_path))\n",
        "test_files = sorted(os.listdir(set2_noisy_path))\n",
        "\n",
        "print(\"Set 1 Clean:\", clean_files[:5])\n",
        "print(\"Set 1 Noisy:\", noisy_files[:5])\n",
        "print(\"Set 2 Noisy:\", test_files[:5])\n"
      ],
      "metadata": {
        "colab": {
          "base_uri": "https://localhost:8080/"
        },
        "id": "qaWIo3TQixqz",
        "outputId": "4611edc5-9e05-4adc-a009-ab98122a54ac"
      },
      "execution_count": null,
      "outputs": [
        {
          "output_type": "stream",
          "name": "stdout",
          "text": [
            "Mounted at /content/drive\n",
            "Set 1 Clean: ['Datasets_clean_testset_wav_p232_001.wav', 'Datasets_clean_testset_wav_p232_002.wav', 'Datasets_clean_testset_wav_p232_003.wav', 'Datasets_clean_testset_wav_p232_005.wav', 'Datasets_clean_testset_wav_p232_006.wav']\n",
            "Set 1 Noisy: ['Datasets_noisy_testset_wav_p232_001.wav', 'Datasets_noisy_testset_wav_p232_001_denoised.wav', 'Datasets_noisy_testset_wav_p232_002.wav', 'Datasets_noisy_testset_wav_p232_003.wav', 'Datasets_noisy_testset_wav_p232_005.wav']\n",
            "Set 2 Noisy: ['bus.wav', 'cafe.wav', 'ped.wav', 'street.wav']\n"
          ]
        }
      ]
    },
    {
      "cell_type": "markdown",
      "source": [
        "# Step 1: Noise Level Analysis"
      ],
      "metadata": {
        "id": "UicsyVK1heVo"
      }
    },
    {
      "cell_type": "code",
      "source": [
        "import librosa\n",
        "import librosa.display\n",
        "import matplotlib.pyplot as plt\n",
        "import numpy as np\n",
        "\n",
        "def calculate_snr(clean_path, noisy_path):\n",
        "    clean, _ = librosa.load(clean_path, sr=16000)\n",
        "    noisy, _ = librosa.load(noisy_path, sr=16000)\n",
        "    noise = noisy - clean\n",
        "    snr = 10 * np.log10(np.sum(clean ** 2) / np.sum(noise ** 2))\n",
        "    return snr\n",
        "\n",
        "def plot_spectrum(audio_path):\n",
        "    audio, sr = librosa.load(audio_path, sr=16000)\n",
        "    D = librosa.stft(audio)\n",
        "    S_db = librosa.amplitude_to_db(np.abs(D), ref=np.max)\n",
        "    plt.figure(figsize=(10, 4))\n",
        "    librosa.display.specshow(S_db, sr=sr, x_axis='time', y_axis='log')\n",
        "    plt.colorbar(format=\"%+2.f dB\")\n",
        "    plt.title(f\"Spectrogram: {os.path.basename(audio_path)}\")\n",
        "    plt.tight_layout()\n",
        "    plt.show()\n",
        "\n",
        "# Example file\n",
        "clean_example = os.path.join(set1_clean_path, clean_files[0])\n",
        "noisy_example = os.path.join(set1_noisy_path, noisy_files[0])\n",
        "\n",
        "print(\"SNR (dB):\", calculate_snr(clean_example, noisy_example))\n",
        "plot_spectrum(noisy_example)"
      ],
      "metadata": {
        "colab": {
          "base_uri": "https://localhost:8080/",
          "height": 424
        },
        "id": "OUCX75YmhcjJ",
        "outputId": "1a19e84f-d2bf-464e-a3d8-c5fd2732119e"
      },
      "execution_count": null,
      "outputs": [
        {
          "output_type": "stream",
          "name": "stdout",
          "text": [
            "SNR (dB): 15.473873\n"
          ]
        },
        {
          "output_type": "display_data",
          "data": {
            "text/plain": [
              "<Figure size 1000x400 with 2 Axes>"
            ],
            "image/png": "[encoded data removed]"
          },
          "metadata": {}
        }
      ]
    },
    {
      "cell_type": "markdown",
      "source": [
        "# Step 2: Denoising Using a Pretrained Model (e.g., Demucs)"
      ],
      "metadata": {
        "id": "8q2LSEjHhvpC"
      }
    },
    {
      "cell_type": "code",
      "source": [
        "model = get_model(name=\"htdemucs\")\n",
        "model.cpu()\n",
        "\n",
        "def denoise_with_demucs(noisy_path, output_path):\n",
        "    wav, sr = torchaudio.load(noisy_path)  # [channels, time]\n",
        "\n",
        "    # Ensure stereo input\n",
        "    if wav.shape[0] == 1:\n",
        "        wav = wav.repeat(2, 1)  # [2, time]\n",
        "\n",
        "    wav = wav.unsqueeze(0)  # [1, 2, time]\n",
        "\n",
        "    # Apply Demucs model\n",
        "    out = apply_model(model, wav, device=\"cpu\", progress=True)[0]  # [2, time]\n",
        "\n",
        "    # Confirm shape before saving\n",
        "    print(\"Output shape before saving:\", out.shape)  # Should be [2, time]\n",
        "\n",
        "    # **Convert to 2D if still not**\n",
        "    # Ensure the output tensor is always 2D\n",
        "    out = out.squeeze(0)  # Remove extra dimensions if any\n",
        "    if out.dim() != 2:  # Check again in case squeeze didn't result in 2D\n",
        "        out = out.reshape(out.shape[0], -1)  # Reshape to (channels, time)\n",
        "\n",
        "    # Save denoised audio\n",
        "    torchaudio.save(output_path, out, sr)\n",
        "\n",
        "\n",
        "# Example usage\n",
        "denoised_example_path = noisy_example.replace(\".wav\", \"_denoised.wav\")\n",
        "denoise_with_demucs(noisy_example, denoised_example_path)"
      ],
      "metadata": {
        "colab": {
          "base_uri": "https://localhost:8080/"
        },
        "id": "oVVMmDw-hxDI",
        "outputId": "a6fbf259-78fa-4127-c0de-db1fde77f996"
      },
      "execution_count": null,
      "outputs": [
        {
          "output_type": "stream",
          "name": "stderr",
          "text": [
            "Downloading: \"https://dl.fbaipublicfiles.com/demucs/hybrid_transformer/955717e8-8726e21a.th\" to /root/.cache/torch/hub/checkpoints/955717e8-8726e21a.th\n",
            "100%|██████████| 80.2M/80.2M [00:00<00:00, 97.4MB/s]\n",
            "100%|██████████████████████████████████████████████████████████████████████████| 5.85/5.85 [00:50<00:00,  8.56s/seconds]\n"
          ]
        },
        {
          "output_type": "stream",
          "name": "stdout",
          "text": [
            "Output shape before saving: torch.Size([4, 2, 83582])\n"
          ]
        }
      ]
    },
    {
      "cell_type": "markdown",
      "source": [
        "# Step 3: Transcription Using Whisper"
      ],
      "metadata": {
        "id": "oOxk0YrFh8PK"
      }
    },
    {
      "cell_type": "code",
      "source": [
        "import whisper\n",
        "\n",
        "whisper_model = whisper.load_model(\"base\")\n",
        "\n",
        "def transcribe(audio_path):\n",
        "    result = whisper_model.transcribe(audio_path)\n",
        "    print(\"Transcription:\", result[\"text\"])\n",
        "    return result[\"text\"]\n",
        "\n",
        "# Transcribe the denoised file\n",
        "transcribe(denoised_example_path)\n"
      ],
      "metadata": {
        "colab": {
          "base_uri": "https://localhost:8080/",
          "height": 105
        },
        "id": "H2SlVPEXh9nA",
        "outputId": "d3ecefb9-44af-49ee-92f2-daadd69d25e6"
      },
      "execution_count": null,
      "outputs": [
        {
          "output_type": "stream",
          "name": "stderr",
          "text": [
            "100%|███████████████████████████████████████| 139M/139M [00:01<00:00, 98.2MiB/s]\n",
            "/usr/local/lib/python3.11/dist-packages/whisper/transcribe.py:132: UserWarning: FP16 is not supported on CPU; using FP32 instead\n",
            "  warnings.warn(\"FP16 is not supported on CPU; using FP32 instead\")\n"
          ]
        },
        {
          "output_type": "stream",
          "name": "stdout",
          "text": [
            "Transcription:  Please call Stella. Please call Stella.\n"
          ]
        },
        {
          "output_type": "execute_result",
          "data": {
            "text/plain": [
              "' Please call Stella. Please call Stella.'"
            ],
            "application/vnd.google.colaboratory.intrinsic+json": {
              "type": "string"
            }
          },
          "metadata": {},
          "execution_count": 5
        }
      ]
    },
    {
      "cell_type": "markdown",
      "source": [
        "# Step 4: Evaluation\n",
        "## Objective Metrics: SNR and PESQ"
      ],
      "metadata": {
        "id": "eIJJqO7OiJHR"
      }
    },
    {
      "cell_type": "code",
      "source": [
        "# WER Example\n",
        "reference_text = \"Thank you all for coming today\"\n",
        "hypothesis_text = transcribe(denoised_example_path)\n",
        "print(\"WER:\", wer(reference_text, hypothesis_text))\n",
        "\n",
        "# PESQ (Requires 16-bit PCM .wav files)\n",
        "rate, clean_signal = wavfile.read(clean_example)\n",
        "_, denoised_signal = wavfile.read(denoised_example_path)\n",
        "\n",
        "# Convert denoised_signal to mono by averaging channels if it's multi-channel\n",
        "if denoised_signal.ndim > 1:  # Check if it's multi-channel\n",
        "    denoised_signal = denoised_signal.mean(axis=1, dtype=np.int16) # Average and cast to int16\n",
        "\n",
        "print(\"PESQ:\", pesq(16000, clean_signal, denoised_signal, 'wb'))\n",
        "\n",
        "\n",
        "# Assign the result of transcribe to the variable 'transcription'\n",
        "transcription = transcribe(denoised_example_path)"
      ],
      "metadata": {
        "colab": {
          "base_uri": "https://localhost:8080/"
        },
        "id": "wGX1ECaViMKS",
        "outputId": "a99bf4ac-032d-4a26-ad15-63e63858fa28"
      },
      "execution_count": null,
      "outputs": [
        {
          "output_type": "stream",
          "name": "stderr",
          "text": [
            "/usr/local/lib/python3.11/dist-packages/whisper/transcribe.py:132: UserWarning: FP16 is not supported on CPU; using FP32 instead\n",
            "  warnings.warn(\"FP16 is not supported on CPU; using FP32 instead\")\n"
          ]
        },
        {
          "output_type": "stream",
          "name": "stdout",
          "text": [
            "Transcription:  Please call Stella. Please call Stella.\n",
            "WER: 1.0\n",
            "PESQ: 3.5013587474823\n"
          ]
        },
        {
          "output_type": "stream",
          "name": "stderr",
          "text": [
            "/usr/local/lib/python3.11/dist-packages/whisper/transcribe.py:132: UserWarning: FP16 is not supported on CPU; using FP32 instead\n",
            "  warnings.warn(\"FP16 is not supported on CPU; using FP32 instead\")\n"
          ]
        },
        {
          "output_type": "stream",
          "name": "stdout",
          "text": [
            "Transcription:  Please call Stella. Please call Stella.\n"
          ]
        }
      ]
    },
    {
      "cell_type": "markdown",
      "source": [
        "## Subjective Metric: MOS (Mock Simulation)"
      ],
      "metadata": {
        "id": "l-BUsLbJiVA1"
      }
    },
    {
      "cell_type": "code",
      "source": [
        "# Simulate MOS (replace with real human scores)\n",
        "def mock_mos():\n",
        "    import random\n",
        "    return round(random.uniform(3.5, 4.5), 2)\n",
        "\n",
        "mos_score = mock_mos()\n",
        "print(f\"Mean Opinion Score (Simulated): {mos_score}\")\n"
      ],
      "metadata": {
        "colab": {
          "base_uri": "https://localhost:8080/"
        },
        "id": "vwknpbJ2iWPG",
        "outputId": "a3fb089c-7f1f-4db4-f556-3e528117ed3c"
      },
      "execution_count": null,
      "outputs": [
        {
          "output_type": "stream",
          "name": "stdout",
          "text": [
            "Mean Opinion Score (Simulated): 4.33\n"
          ]
        }
      ]
    },
    {
      "cell_type": "markdown",
      "source": [
        "## Transcription Accuracy: WER"
      ],
      "metadata": {
        "id": "1Ep1kpygiaP0"
      }
    },
    {
      "cell_type": "code",
      "source": [
        "# Replace this with ground truth\n",
        "ground_truth = \"This is the reference transcript of the moderator’s speech\"\n",
        "wer_score = wer(ground_truth.lower(), transcription.lower())\n",
        "print(f\"Word Error Rate: {wer_score:.2f}\")\n"
      ],
      "metadata": {
        "colab": {
          "base_uri": "https://localhost:8080/"
        },
        "id": "hcfBEtP0ibvT",
        "outputId": "8067497f-191c-4d68-f9f2-aaac0118edee"
      },
      "execution_count": null,
      "outputs": [
        {
          "output_type": "stream",
          "name": "stdout",
          "text": [
            "Word Error Rate: 1.00\n"
          ]
        }
      ]
    },
    {
      "cell_type": "markdown",
      "source": [
        "## Step 5: Result Summary"
      ],
      "metadata": {
        "id": "DvnnL15SigFC"
      }
    },
    {
      "cell_type": "code",
      "source": [
        "print(\"==== Result Summary ====\")\n",
        "# Calculate SNR improvement (you'll need to define the variables used below)\n",
        "# This example assumes you have a way to calculate clean_snr and noisy_snr\n",
        "# Call the 'calculate_snr' function for clean and noisy examples\n",
        "clean_snr = calculate_snr(clean_example, clean_example)  # Assuming clean_example is the path to the clean audio\n",
        "noisy_snr = calculate_snr(clean_example, noisy_example)  # Assuming noisy_example is the path to the noisy audio\n",
        "\n",
        "snr_improvement = clean_snr - noisy_snr  # Example - replace with your calculation\n",
        "\n",
        "# Print the SNR improvement, handling the case where it might be a NumPy array or scalar\n",
        "if hasattr(snr_improvement, 'item'):\n",
        "    print(f\"SNR Improvement: {snr_improvement.item():.2f} dB\")\n",
        "else:\n",
        "    print(f\"SNR Improvement: {snr_improvement:.2f} dB\")\n",
        "\n",
        "# Make sure 'pesq_score' is defined before this line - assign the result of pesq calculation\n",
        "pesq_score = pesq(16000, clean_signal, denoised_signal, 'wb')\n",
        "print(f\"PESQ Score: {pesq_score}\")\n",
        "\n",
        "print(f\"Mean Opinion Score (Simulated): {mos_score}\")\n",
        "print(f\"Word Error Rate: {wer_score:.2f}\")\n",
        "print(f\"Transcription:\\n{transcription}\")"
      ],
      "metadata": {
        "colab": {
          "base_uri": "https://localhost:8080/"
        },
        "id": "RpwiHt_xihRn",
        "outputId": "72191b86-b4a2-4fac-8a01-ee91ebea4bb3"
      },
      "execution_count": null,
      "outputs": [
        {
          "output_type": "stream",
          "name": "stdout",
          "text": [
            "==== Result Summary ====\n",
            "SNR Improvement: inf dB\n",
            "PESQ Score: 3.5013587474823\n",
            "Mean Opinion Score (Simulated): 4.33\n",
            "Word Error Rate: 1.00\n",
            "Transcription:\n",
            " Please call Stella. Please call Stella.\n"
          ]
        },
        {
          "output_type": "stream",
          "name": "stderr",
          "text": [
            "<ipython-input-3-2b1d4a24c8f0>:10: RuntimeWarning: divide by zero encountered in scalar divide\n",
            "  snr = 10 * np.log10(np.sum(clean ** 2) / np.sum(noise ** 2))\n"
          ]
        }
      ]
    },
    {
      "cell_type": "code",
      "source": [
        "from google.colab import files\n",
        "files.download(denoised_example_path)\n"
      ],
      "metadata": {
        "colab": {
          "base_uri": "https://localhost:8080/",
          "height": 17
        },
        "id": "kvUBxz6bwBov",
        "outputId": "dff70a3f-6eb5-4e53-b768-65b1cdf07ac0"
      },
      "execution_count": null,
      "outputs": [
        {
          "output_type": "display_data",
          "data": {
            "text/plain": [
              "<IPython.core.display.Javascript object>"
            ],
            "application/javascript": [
              "\n",
              "    async function download(id, filename, size) {\n",
              "      if (!google.colab.kernel.accessAllowed) {\n",
              "        return;\n",
              "      }\n",
              "      const div = document.createElement('div');\n",
              "      const label = document.createElement('label');\n",
              "      label.textContent = `Downloading \"${filename}\": `;\n",
              "      div.appendChild(label);\n",
              "      const progress = document.createElement('progress');\n",
              "      progress.max = size;\n",
              "      div.appendChild(progress);\n",
              "      document.body.appendChild(div);\n",
              "\n",
              "      const buffers = [];\n",
              "      let downloaded = 0;\n",
              "\n",
              "      const channel = await google.colab.kernel.comms.open(id);\n",
              "      // Send a message to notify the kernel that we're ready.\n",
              "      channel.send({})\n",
              "\n",
              "      for await (const message of channel.messages) {\n",
              "        // Send a message to notify the kernel that we're ready.\n",
              "        channel.send({})\n",
              "        if (message.buffers) {\n",
              "          for (const buffer of message.buffers) {\n",
              "            buffers.push(buffer);\n",
              "            downloaded += buffer.byteLength;\n",
              "            progress.value = downloaded;\n",
              "          }\n",
              "        }\n",
              "      }\n",
              "      const blob = new Blob(buffers, {type: 'application/binary'});\n",
              "      const a = document.createElement('a');\n",
              "      a.href = window.URL.createObjectURL(blob);\n",
              "      a.download = filename;\n",
              "      div.appendChild(a);\n",
              "      a.click();\n",
              "      div.remove();\n",
              "    }\n",
              "  "
            ]
          },
          "metadata": {}
        },
        {
          "output_type": "display_data",
          "data": {
            "text/plain": [
              "<IPython.core.display.Javascript object>"
            ],
            "application/javascript": [
              "download(\"download_908b1ee7-264b-4876-acee-b12efa10b969\", \"Datasets_noisy_testset_wav_p232_001_denoised.wav\", 1337414)"
            ]
          },
          "metadata": {}
        }
      ]
    }
  ]
}